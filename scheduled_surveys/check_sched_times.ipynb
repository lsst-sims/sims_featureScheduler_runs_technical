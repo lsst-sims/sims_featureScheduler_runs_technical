{
 "cells": [
  {
   "cell_type": "code",
   "execution_count": 1,
   "metadata": {},
   "outputs": [],
   "source": [
    "import numpy as np\n",
    "import pandas as pd\n",
    "import sqlite3\n",
    "import matplotlib.pylab as plt\n",
    "%matplotlib inline"
   ]
  },
  {
   "cell_type": "code",
   "execution_count": 7,
   "metadata": {},
   "outputs": [],
   "source": [
    "mjds = np.genfromtxt('mjds.dat')\n",
    "tags = np.array(['SouthPole, ' + '%i' %i for i in np.arange(mjds.size)])"
   ]
  },
  {
   "cell_type": "code",
   "execution_count": 3,
   "metadata": {},
   "outputs": [],
   "source": [
    "conn = sqlite3.connect('scheduled_v1.6.1_0yrs.db')\n",
    "obs = pd.read_sql('select * from summaryallprops;', conn)"
   ]
  },
  {
   "cell_type": "code",
   "execution_count": 9,
   "metadata": {},
   "outputs": [],
   "source": [
    "xy, ind_obs, ind_tag = np.intersect1d(obs['note'].values, tags, return_indices=True)"
   ]
  },
  {
   "cell_type": "code",
   "execution_count": 26,
   "metadata": {},
   "outputs": [
    {
     "data": {
      "text/plain": [
       "Text(0, 0.5, 'Scheduled - Actual (hours)')"
      ]
     },
     "execution_count": 26,
     "metadata": {},
     "output_type": "execute_result"
    },
    {
     "data": {
      "image/png": "[encoded data removed]",
      "text/plain": [
       "<Figure size 432x288 with 1 Axes>"
      ]
     },
     "metadata": {
      "needs_background": "light"
     },
     "output_type": "display_data"
    }
   ],
   "source": [
    "plt.plot(mjds, (mjds[ind_tag]-obs['observationStartMJD'].values[ind_obs])*24*60, 'ko')\n",
    "plt.xlabel('MJD')\n",
    "plt.ylabel('Scheduled - Actual (hours)')"
   ]
  },
  {
   "cell_type": "code",
   "execution_count": 28,
   "metadata": {},
   "outputs": [
    {
     "data": {
      "text/plain": [
       "(27, 27)"
      ]
     },
     "execution_count": 28,
     "metadata": {},
     "output_type": "execute_result"
    }
   ],
   "source": [
    "ind_obs.size, mjds.size"
   ]
  },
  {
   "cell_type": "code",
   "execution_count": 16,
   "metadata": {},
   "outputs": [
    {
     "data": {
      "text/plain": [
       "array([59854.18033875, 59855.03806447, 59864.17855451, 59865.18114112,\n",
       "       59866.17970956, 59867.17956214, 59868.07880791, 59869.17973239,\n",
       "       59870.17896717, 59871.17889833, 59873.17921137, 59874.17869565,\n",
       "       59856.18978971, 59875.17672275, 59876.17754232, 59877.08146941,\n",
       "       59878.17673536, 59879.17777587, 59881.21111987, 59882.17760992,\n",
       "       59857.19163888, 59858.1824924 , 59859.18198147, 59860.19324063,\n",
       "       59861.18106275, 59862.18023773, 59863.17980913])"
      ]
     },
     "execution_count": 16,
     "metadata": {},
     "output_type": "execute_result"
    }
   ],
   "source": [
    "obs['observationStartMJD'].values[ind_obs]"
   ]
  },
  {
   "cell_type": "code",
   "execution_count": 17,
   "metadata": {},
   "outputs": [
    {
     "data": {
      "text/plain": [
       "array([59854.18890534, 59855.04643188, 59856.18863577, 59857.18990313,\n",
       "       59858.19108026, 59859.1903329 , 59860.20063103, 59861.18933396,\n",
       "       59862.18880684, 59863.18830868, 59864.18686534, 59865.18951235,\n",
       "       59866.1880369 , 59867.18795077, 59868.08800196, 59869.18914144,\n",
       "       59870.18751081, 59871.18710262, 59873.18743904, 59874.18703313,\n",
       "       59875.18625735, 59876.18700695, 59877.0907365 , 59878.18629678,\n",
       "       59879.18644973, 59881.18571985, 59882.18616756])"
      ]
     },
     "execution_count": 17,
     "metadata": {},
     "output_type": "execute_result"
    }
   ],
   "source": [
    "mjds"
   ]
  },
  {
   "cell_type": "code",
   "execution_count": null,
   "metadata": {},
   "outputs": [],
   "source": []
  }
 ],
 "metadata": {
  "kernelspec": {
   "display_name": "Python 3",
   "language": "python",
   "name": "python3"
  },
  "language_info": {
   "codemirror_mode": {
    "name": "ipython",
    "version": 3
   },
   "file_extension": ".py",
   "mimetype": "text/x-python",
   "name": "python",
   "nbconvert_exporter": "python",
   "pygments_lexer": "ipython3",
   "version": "3.7.2"
  }
 },
 "nbformat": 4,
 "nbformat_minor": 2
}
