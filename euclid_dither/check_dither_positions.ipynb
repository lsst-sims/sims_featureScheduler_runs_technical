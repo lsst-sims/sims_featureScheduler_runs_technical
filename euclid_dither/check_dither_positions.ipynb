{
 "cells": [
  {
   "cell_type": "code",
   "execution_count": 2,
   "metadata": {},
   "outputs": [],
   "source": [
    "import numpy as np\n",
    "import matplotlib.pylab as plt\n",
    "%matplotlib inline\n",
    "import sqlite3\n",
    "import pandas as pd"
   ]
  },
  {
   "cell_type": "code",
   "execution_count": 3,
   "metadata": {},
   "outputs": [],
   "source": [
    "conn = sqlite3.connect('euclid_ditherv1.6.1_10yrs.db')\n",
    "df = pd.read_sql('select fieldRA,fieldDec,note from summaryallprops where note like \"DD:EDFS%\"', conn)"
   ]
  },
  {
   "cell_type": "code",
   "execution_count": 4,
   "metadata": {},
   "outputs": [
    {
     "data": {
      "text/html": [
       "<div>\n",
       "<style scoped>\n",
       "    .dataframe tbody tr th:only-of-type {\n",
       "        vertical-align: middle;\n",
       "    }\n",
       "\n",
       "    .dataframe tbody tr th {\n",
       "        vertical-align: top;\n",
       "    }\n",
       "\n",
       "    .dataframe thead th {\n",
       "        text-align: right;\n",
       "    }\n",
       "</style>\n",
       "<table border=\"1\" class=\"dataframe\">\n",
       "  <thead>\n",
       "    <tr style=\"text-align: right;\">\n",
       "      <th></th>\n",
       "      <th>fieldRA</th>\n",
       "      <th>fieldDec</th>\n",
       "      <th>note</th>\n",
       "    </tr>\n",
       "  </thead>\n",
       "  <tbody>\n",
       "    <tr>\n",
       "      <th>0</th>\n",
       "      <td>58.727749</td>\n",
       "      <td>-49.194606</td>\n",
       "      <td>DD:EDFS, a</td>\n",
       "    </tr>\n",
       "    <tr>\n",
       "      <th>1</th>\n",
       "      <td>58.727749</td>\n",
       "      <td>-49.194606</td>\n",
       "      <td>DD:EDFS, a</td>\n",
       "    </tr>\n",
       "    <tr>\n",
       "      <th>2</th>\n",
       "      <td>58.727749</td>\n",
       "      <td>-49.194606</td>\n",
       "      <td>DD:EDFS, a</td>\n",
       "    </tr>\n",
       "    <tr>\n",
       "      <th>3</th>\n",
       "      <td>58.727749</td>\n",
       "      <td>-49.194606</td>\n",
       "      <td>DD:EDFS, a</td>\n",
       "    </tr>\n",
       "    <tr>\n",
       "      <th>4</th>\n",
       "      <td>58.727749</td>\n",
       "      <td>-49.194606</td>\n",
       "      <td>DD:EDFS, a</td>\n",
       "    </tr>\n",
       "    <tr>\n",
       "      <th>...</th>\n",
       "      <td>...</td>\n",
       "      <td>...</td>\n",
       "      <td>...</td>\n",
       "    </tr>\n",
       "    <tr>\n",
       "      <th>19718</th>\n",
       "      <td>62.667457</td>\n",
       "      <td>-47.726515</td>\n",
       "      <td>DD:EDFS, b</td>\n",
       "    </tr>\n",
       "    <tr>\n",
       "      <th>19719</th>\n",
       "      <td>62.667457</td>\n",
       "      <td>-47.726515</td>\n",
       "      <td>DD:EDFS, b</td>\n",
       "    </tr>\n",
       "    <tr>\n",
       "      <th>19720</th>\n",
       "      <td>62.667457</td>\n",
       "      <td>-47.726515</td>\n",
       "      <td>DD:EDFS, b</td>\n",
       "    </tr>\n",
       "    <tr>\n",
       "      <th>19721</th>\n",
       "      <td>62.667457</td>\n",
       "      <td>-47.726515</td>\n",
       "      <td>DD:EDFS, b</td>\n",
       "    </tr>\n",
       "    <tr>\n",
       "      <th>19722</th>\n",
       "      <td>62.667457</td>\n",
       "      <td>-47.726515</td>\n",
       "      <td>DD:EDFS, b</td>\n",
       "    </tr>\n",
       "  </tbody>\n",
       "</table>\n",
       "<p>19723 rows × 3 columns</p>\n",
       "</div>"
      ],
      "text/plain": [
       "         fieldRA   fieldDec        note\n",
       "0      58.727749 -49.194606  DD:EDFS, a\n",
       "1      58.727749 -49.194606  DD:EDFS, a\n",
       "2      58.727749 -49.194606  DD:EDFS, a\n",
       "3      58.727749 -49.194606  DD:EDFS, a\n",
       "4      58.727749 -49.194606  DD:EDFS, a\n",
       "...          ...        ...         ...\n",
       "19718  62.667457 -47.726515  DD:EDFS, b\n",
       "19719  62.667457 -47.726515  DD:EDFS, b\n",
       "19720  62.667457 -47.726515  DD:EDFS, b\n",
       "19721  62.667457 -47.726515  DD:EDFS, b\n",
       "19722  62.667457 -47.726515  DD:EDFS, b\n",
       "\n",
       "[19723 rows x 3 columns]"
      ]
     },
     "execution_count": 4,
     "metadata": {},
     "output_type": "execute_result"
    }
   ],
   "source": [
    "df"
   ]
  },
  {
   "cell_type": "code",
   "execution_count": 5,
   "metadata": {},
   "outputs": [
    {
     "data": {
      "text/plain": [
       "Text(0, 0.5, 'Dec (degrees)')"
      ]
     },
     "execution_count": 5,
     "metadata": {},
     "output_type": "execute_result"
    },
    {
     "data": {
      "image/png": "[encoded data removed]",
      "text/plain": [
       "<Figure size 432x288 with 1 Axes>"
      ]
     },
     "metadata": {
      "needs_background": "light"
     },
     "output_type": "display_data"
    }
   ],
   "source": [
    "good = np.where(df['note'].values=='DD:EDFS, a')\n",
    "plt.plot(df['fieldRA'].values[good], df['fieldDec'].values[good], 'ro')\n",
    "\n",
    "good = np.where(df['note'].values=='DD:EDFS, b')\n",
    "plt.plot(df['fieldRA'].values[good], df['fieldDec'].values[good], 'bo')\n",
    "\n",
    "plt.xlabel('RA (degrees)')\n",
    "plt.ylabel('Dec (degrees)')"
   ]
  },
  {
   "cell_type": "code",
   "execution_count": null,
   "metadata": {},
   "outputs": [],
   "source": []
  }
 ],
 "metadata": {
  "kernelspec": {
   "display_name": "Python 3",
   "language": "python",
   "name": "python3"
  },
  "language_info": {
   "codemirror_mode": {
    "name": "ipython",
    "version": 3
   },
   "file_extension": ".py",
   "mimetype": "text/x-python",
   "name": "python",
   "nbconvert_exporter": "python",
   "pygments_lexer": "ipython3",
   "version": "3.7.8"
  }
 },
 "nbformat": 4,
 "nbformat_minor": 4
}
