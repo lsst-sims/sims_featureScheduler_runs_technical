{
 "cells": [
  {
   "cell_type": "markdown",
   "metadata": {},
   "source": [
    "Make a big pandas dataframe to hold all the metric values we're interested in, so then we can pass it around and plot it up any way we like\n",
    "\n",
    "I guess depth in each filter for each DDF?\n",
    "\n"
   ]
  },
  {
   "cell_type": "code",
   "execution_count": 1,
   "metadata": {},
   "outputs": [],
   "source": [
    "import glob\n",
    "import pandas as pd\n",
    "import sqlite3\n",
    "import numpy as np\n",
    "import matplotlib.pylab as plt\n",
    "import os\n",
    "%matplotlib inline"
   ]
  },
  {
   "cell_type": "code",
   "execution_count": 2,
   "metadata": {},
   "outputs": [],
   "source": [
    "# I just coppied them over from hyak and sym linked them to this directory for ease of use\n",
    "glance_dirs = glob.glob('./*_glance')\n",
    "\n",
    "glance_dirs.sort()\n"
   ]
  },
  {
   "cell_type": "code",
   "execution_count": null,
   "metadata": {},
   "outputs": [],
   "source": [
    "\n"
   ]
  },
  {
   "cell_type": "code",
   "execution_count": 3,
   "metadata": {},
   "outputs": [
    {
     "data": {
      "text/plain": [
       "['./baseline_nexp1_v1.6.1_10yrs_glance',\n",
       " './baseline_nexp2_v1.6.1_10yrs_glance',\n",
       " './cadence_drive_gl100_gcbv1.6.1_10yrs_glance',\n",
       " './cadence_drive_gl100v1.6.1_10yrs_glance',\n",
       " './cadence_drive_gl200_gcbv1.6.1_10yrs_glance',\n",
       " './cadence_drive_gl200v1.6.1_10yrs_glance',\n",
       " './cadence_drive_gl30_gcbv1.6.1_10yrs_glance',\n",
       " './cadence_drive_gl30v1.6.1_10yrs_glance',\n",
       " './footprint_var_0_v1.6.1_10yrs_glance',\n",
       " './footprint_var_10_v1.6.1_10yrs_glance',\n",
       " './footprint_var_11_v1.6.1_10yrs_glance',\n",
       " './footprint_var_1_v1.6.1_10yrs_glance',\n",
       " './footprint_var_2_v1.6.1_10yrs_glance',\n",
       " './footprint_var_3_v1.6.1_10yrs_glance',\n",
       " './footprint_var_4_v1.6.1_10yrs_glance',\n",
       " './footprint_var_5_v1.6.1_10yrs_glance',\n",
       " './footprint_var_6_v1.6.1_10yrs_glance',\n",
       " './footprint_var_7_v1.6.1_10yrs_glance',\n",
       " './footprint_var_8_v1.6.1_10yrs_glance',\n",
       " './footprint_var_9_v1.6.1_10yrs_glance',\n",
       " './pair_times_11_v1.6.1_10yrs_glance',\n",
       " './pair_times_22_v1.6.1_10yrs_glance',\n",
       " './pair_times_33_v1.6.1_10yrs_glance',\n",
       " './pair_times_44_v1.6.1_10yrs_glance',\n",
       " './pair_times_55_v1.6.1_10yrs_glance',\n",
       " './twi_pairs_mixed_repeat_v1.6.1_10yrs_glance',\n",
       " './twi_pairs_mixed_v1.6.1_10yrs_glance',\n",
       " './twi_pairs_repeat_v1.6.1_10yrs_glance',\n",
       " './twi_pairs_v1.6.1_10yrs_glance',\n",
       " './u_long_50_nexp1_v1.6.1_10yrs_glance',\n",
       " './u_long_50_nexp2_v1.6.1_10yrs_glance',\n",
       " './u_long_60_nexp1_v1.6.1_10yrs_glance',\n",
       " './u_long_60_nexp2_v1.6.1_10yrs_glance',\n",
       " './u_long_ms_30_v1.6.1_10yrs_glance',\n",
       " './u_long_ms_40_v1.6.1_10yrs_glance',\n",
       " './u_long_ms_50_v1.6.1_10yrs_glance',\n",
       " './u_long_ms_60_v1.6.1_10yrs_glance']"
      ]
     },
     "execution_count": 3,
     "metadata": {},
     "output_type": "execute_result"
    }
   ],
   "source": [
    "glance_dirs"
   ]
  },
  {
   "cell_type": "code",
   "execution_count": 4,
   "metadata": {},
   "outputs": [],
   "source": [
    "filenames = [name.replace('./', '').replace('_glance', '') for name in glance_dirs]"
   ]
  },
  {
   "cell_type": "code",
   "execution_count": null,
   "metadata": {},
   "outputs": [],
   "source": []
  },
  {
   "cell_type": "code",
   "execution_count": 5,
   "metadata": {},
   "outputs": [],
   "source": [
    "runNames =  [name[2:].replace('_v1.6.1_10yrs_glance','').replace('v1.6.1_10yrs_glance','').replace('v1.6_10yrs_glance','') for name in glance_dirs] \n",
    "versions = ['1.6.1']*len(glance_dirs) "
   ]
  },
  {
   "cell_type": "code",
   "execution_count": 6,
   "metadata": {},
   "outputs": [
    {
     "data": {
      "text/plain": [
       "['baseline_nexp1',\n",
       " 'baseline_nexp2',\n",
       " 'cadence_drive_gl100_gcb',\n",
       " 'cadence_drive_gl100',\n",
       " 'cadence_drive_gl200_gcb',\n",
       " 'cadence_drive_gl200',\n",
       " 'cadence_drive_gl30_gcb',\n",
       " 'cadence_drive_gl30',\n",
       " 'footprint_var_0',\n",
       " 'footprint_var_10',\n",
       " 'footprint_var_11',\n",
       " 'footprint_var_1',\n",
       " 'footprint_var_2',\n",
       " 'footprint_var_3',\n",
       " 'footprint_var_4',\n",
       " 'footprint_var_5',\n",
       " 'footprint_var_6',\n",
       " 'footprint_var_7',\n",
       " 'footprint_var_8',\n",
       " 'footprint_var_9',\n",
       " 'pair_times_11',\n",
       " 'pair_times_22',\n",
       " 'pair_times_33',\n",
       " 'pair_times_44',\n",
       " 'pair_times_55',\n",
       " 'twi_pairs_mixed_repeat',\n",
       " 'twi_pairs_mixed',\n",
       " 'twi_pairs_repeat',\n",
       " 'twi_pairs',\n",
       " 'u_long_50_nexp1',\n",
       " 'u_long_50_nexp2',\n",
       " 'u_long_60_nexp1',\n",
       " 'u_long_60_nexp2',\n",
       " 'u_long_ms_30',\n",
       " 'u_long_ms_40',\n",
       " 'u_long_ms_50',\n",
       " 'u_long_ms_60']"
      ]
     },
     "execution_count": 6,
     "metadata": {},
     "output_type": "execute_result"
    }
   ],
   "source": [
    "runNames"
   ]
  },
  {
   "cell_type": "code",
   "execution_count": 7,
   "metadata": {},
   "outputs": [],
   "source": [
    "# Set up the dataframe\n",
    "df = pd.DataFrame(np.array([runNames, versions]).T, columns=['runName', 'version'])"
   ]
  },
  {
   "cell_type": "code",
   "execution_count": 8,
   "metadata": {},
   "outputs": [],
   "source": [
    "# List of tupes with (metricName, summaryName) that we want to pull from glance dirs\n",
    "mnamesname =[('parallax', 'best18k'),\n",
    "            ('properMotion', 'best18k'),\n",
    "            ('fO', 'fONv MedianNvis'),\n",
    "            ('fO', 'fOArea')]"
   ]
  },
  {
   "cell_type": "code",
   "execution_count": 9,
   "metadata": {},
   "outputs": [],
   "source": [
    "for names in mnamesname:\n",
    "    column_vals = []\n",
    "    sql = 'select summaryValue from summarystats where metricId = (select metricId from metrics where metricName = \"%s\") and summaryName= \"%s\";' % (names[0], names[1])\n",
    "    for directory in glance_dirs:\n",
    "        conn = sqlite3.connect(directory+'/resultsDb_sqlite.db')\n",
    "        result = pd.read_sql(sql, conn).values.ravel()\n",
    "        if np.size(result) > 1:\n",
    "            ValueError\n",
    "        else:\n",
    "            column_vals.append(np.max(result))\n",
    "        conn.close()\n",
    "    df[names[0]+'_'+names[1]] = column_vals"
   ]
  },
  {
   "cell_type": "code",
   "execution_count": 10,
   "metadata": {},
   "outputs": [],
   "source": [
    "# Add the median coadded depths in each filter\n",
    "for filtername in 'ugrizy':\n",
    "    column_vals = []\n",
    "    sql = 'select summaryValue from summarystats where metricId = (select metricId from metrics where metricName = \"CoaddM5\" and metricMetadata=\" %s\") and summaryName= \"Median\";' % (filtername)\n",
    "    for directory in glance_dirs:\n",
    "        conn = sqlite3.connect(directory+'/resultsDb_sqlite.db')\n",
    "        result = pd.read_sql(sql, conn).values.ravel()\n",
    "        if np.size(result) > 1:\n",
    "            ValueError\n",
    "        else:\n",
    "            column_vals.append(np.max(result))\n",
    "        conn.close()\n",
    "    df['median_coadd_%s' % filtername] = column_vals\n"
   ]
  },
  {
   "cell_type": "code",
   "execution_count": 11,
   "metadata": {},
   "outputs": [],
   "source": [
    "# Add the median count in each filter\n",
    "for filtername in 'ugrizy':\n",
    "    column_vals = []\n",
    "    sql = 'select summaryValue from summarystats where metricId = (select metricId from metrics where metricName = \"Count observationStartMJD\" and metricMetadata=\" %s\") and summaryName= \"Median\";' % (filtername)\n",
    "    for directory in glance_dirs:\n",
    "        conn = sqlite3.connect(directory+'/resultsDb_sqlite.db')\n",
    "        result = pd.read_sql(sql, conn).values.ravel()\n",
    "        if np.size(result) > 1:\n",
    "            ValueError\n",
    "        else:\n",
    "            column_vals.append(np.max(result))\n",
    "        conn.close()\n",
    "    df['median_Nvis_%s' % filtername] = column_vals\n"
   ]
  },
  {
   "cell_type": "code",
   "execution_count": 12,
   "metadata": {},
   "outputs": [
    {
     "data": {
      "text/plain": [
       "0     194.0\n",
       "1     180.0\n",
       "2     191.0\n",
       "3     191.0\n",
       "4     186.0\n",
       "5     183.0\n",
       "6     193.0\n",
       "7     192.0\n",
       "8     178.0\n",
       "9     170.0\n",
       "10    181.0\n",
       "11    179.0\n",
       "12    177.0\n",
       "13    178.0\n",
       "14    179.0\n",
       "15    176.0\n",
       "16    179.0\n",
       "17    176.0\n",
       "18    182.0\n",
       "19    170.0\n",
       "20    186.0\n",
       "21    195.0\n",
       "22    197.0\n",
       "23    198.0\n",
       "24    199.0\n",
       "25    195.0\n",
       "26    195.0\n",
       "27    196.0\n",
       "28    196.0\n",
       "29    191.0\n",
       "30    177.0\n",
       "31    188.0\n",
       "32    174.0\n",
       "33    183.0\n",
       "34    179.0\n",
       "35    178.0\n",
       "36    175.0\n",
       "Name: median_Nvis_y, dtype: float64"
      ]
     },
     "execution_count": 12,
     "metadata": {},
     "output_type": "execute_result"
    }
   ],
   "source": [
    "df['median_Nvis_%s' % filtername]"
   ]
  },
  {
   "cell_type": "code",
   "execution_count": null,
   "metadata": {},
   "outputs": [],
   "source": []
  },
  {
   "cell_type": "code",
   "execution_count": null,
   "metadata": {},
   "outputs": [],
   "source": []
  },
  {
   "cell_type": "code",
   "execution_count": null,
   "metadata": {},
   "outputs": [],
   "source": []
  },
  {
   "cell_type": "code",
   "execution_count": null,
   "metadata": {},
   "outputs": [],
   "source": []
  },
  {
   "cell_type": "code",
   "execution_count": null,
   "metadata": {},
   "outputs": [],
   "source": []
  },
  {
   "cell_type": "code",
   "execution_count": null,
   "metadata": {},
   "outputs": [],
   "source": []
  },
  {
   "cell_type": "code",
   "execution_count": null,
   "metadata": {},
   "outputs": [],
   "source": []
  },
  {
   "cell_type": "code",
   "execution_count": null,
   "metadata": {},
   "outputs": [],
   "source": []
  },
  {
   "cell_type": "code",
   "execution_count": null,
   "metadata": {},
   "outputs": [],
   "source": []
  },
  {
   "cell_type": "code",
   "execution_count": null,
   "metadata": {},
   "outputs": [],
   "source": []
  },
  {
   "cell_type": "code",
   "execution_count": null,
   "metadata": {},
   "outputs": [],
   "source": []
  },
  {
   "cell_type": "code",
   "execution_count": null,
   "metadata": {},
   "outputs": [],
   "source": []
  },
  {
   "cell_type": "code",
   "execution_count": null,
   "metadata": {},
   "outputs": [],
   "source": []
  },
  {
   "cell_type": "code",
   "execution_count": null,
   "metadata": {},
   "outputs": [],
   "source": []
  },
  {
   "cell_type": "code",
   "execution_count": 13,
   "metadata": {},
   "outputs": [
    {
     "data": {
      "text/plain": [
       "[<matplotlib.lines.Line2D at 0x7f84bbe6eed0>]"
      ]
     },
     "execution_count": 13,
     "metadata": {},
     "output_type": "execute_result"
    },
    {
     "data": {
      "image/png": "[encoded data removed]",
      "text/plain": [
       "<Figure size 432x288 with 1 Axes>"
      ]
     },
     "metadata": {
      "needs_background": "light"
     },
     "output_type": "display_data"
    }
   ],
   "source": [
    "plt.plot(df['median_coadd_g'])"
   ]
  },
  {
   "cell_type": "code",
   "execution_count": null,
   "metadata": {},
   "outputs": [],
   "source": []
  },
  {
   "cell_type": "code",
   "execution_count": 14,
   "metadata": {},
   "outputs": [
    {
     "data": {
      "text/plain": [
       "Index(['runName', 'version', 'parallax_best18k', 'properMotion_best18k',\n",
       "       'fO_fONv MedianNvis', 'fO_fOArea', 'median_coadd_u', 'median_coadd_g',\n",
       "       'median_coadd_r', 'median_coadd_i', 'median_coadd_z', 'median_coadd_y',\n",
       "       'median_Nvis_u', 'median_Nvis_g', 'median_Nvis_r', 'median_Nvis_i',\n",
       "       'median_Nvis_z', 'median_Nvis_y'],\n",
       "      dtype='object')"
      ]
     },
     "execution_count": 14,
     "metadata": {},
     "output_type": "execute_result"
    }
   ],
   "source": [
    "df.columns"
   ]
  },
  {
   "cell_type": "code",
   "execution_count": 15,
   "metadata": {},
   "outputs": [],
   "source": [
    "# pickle would be much smaller, but I guess can zip after if we want to\n",
    "df.to_hdf('depths_maf_dataframe.hdf', 'maf')\n",
    "# restore with:\n",
    "# df = pd.read_hdf('combined_maf_dataframe.hdf', 'maf')"
   ]
  },
  {
   "cell_type": "code",
   "execution_count": null,
   "metadata": {},
   "outputs": [],
   "source": []
  },
  {
   "cell_type": "code",
   "execution_count": null,
   "metadata": {},
   "outputs": [],
   "source": []
  },
  {
   "cell_type": "code",
   "execution_count": null,
   "metadata": {},
   "outputs": [],
   "source": []
  },
  {
   "cell_type": "code",
   "execution_count": null,
   "metadata": {},
   "outputs": [],
   "source": []
  },
  {
   "cell_type": "code",
   "execution_count": null,
   "metadata": {},
   "outputs": [],
   "source": []
  },
  {
   "cell_type": "code",
   "execution_count": null,
   "metadata": {},
   "outputs": [],
   "source": []
  }
 ],
 "metadata": {
  "kernelspec": {
   "display_name": "Python 3",
   "language": "python",
   "name": "python3"
  },
  "language_info": {
   "codemirror_mode": {
    "name": "ipython",
    "version": 3
   },
   "file_extension": ".py",
   "mimetype": "text/x-python",
   "name": "python",
   "nbconvert_exporter": "python",
   "pygments_lexer": "ipython3",
   "version": "3.7.8"
  }
 },
 "nbformat": 4,
 "nbformat_minor": 2
}
